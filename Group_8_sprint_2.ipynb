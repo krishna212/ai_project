{
  "nbformat": 4,
  "nbformat_minor": 0,
  "metadata": {
    "colab": {
      "provenance": []
    },
    "kernelspec": {
      "name": "python3",
      "display_name": "Python 3"
    },
    "language_info": {
      "name": "python"
    }
  },
  "cells": [
    {
      "cell_type": "markdown",
      "source": [
        "##2.a. Multi Label Classification using Ensemble models"
      ],
      "metadata": {
        "id": "tK-vhqLegTjO"
      }
    },
    {
      "cell_type": "code",
      "execution_count": null,
      "metadata": {
        "colab": {
          "base_uri": "https://localhost:8080/"
        },
        "id": "qynKKsxBwbFz",
        "outputId": "dacffedb-773b-4638-fb68-cb17f35a52df"
      },
      "outputs": [
        {
          "output_type": "stream",
          "name": "stdout",
          "text": [
            "Looking in indexes: https://pypi.org/simple, https://us-python.pkg.dev/colab-wheels/public/simple/\n",
            "Requirement already satisfied: shap in /usr/local/lib/python3.7/dist-packages (0.41.0)\n",
            "Requirement already satisfied: tqdm>4.25.0 in /usr/local/lib/python3.7/dist-packages (from shap) (4.64.1)\n",
            "Requirement already satisfied: scipy in /usr/local/lib/python3.7/dist-packages (from shap) (1.7.3)\n",
            "Requirement already satisfied: packaging>20.9 in /usr/local/lib/python3.7/dist-packages (from shap) (21.3)\n",
            "Requirement already satisfied: slicer==0.0.7 in /usr/local/lib/python3.7/dist-packages (from shap) (0.0.7)\n",
            "Requirement already satisfied: pandas in /usr/local/lib/python3.7/dist-packages (from shap) (1.3.5)\n",
            "Requirement already satisfied: numba in /usr/local/lib/python3.7/dist-packages (from shap) (0.56.4)\n",
            "Requirement already satisfied: cloudpickle in /usr/local/lib/python3.7/dist-packages (from shap) (1.5.0)\n",
            "Requirement already satisfied: numpy in /usr/local/lib/python3.7/dist-packages (from shap) (1.21.6)\n",
            "Requirement already satisfied: scikit-learn in /usr/local/lib/python3.7/dist-packages (from shap) (1.0.2)\n",
            "Requirement already satisfied: pyparsing!=3.0.5,>=2.0.2 in /usr/local/lib/python3.7/dist-packages (from packaging>20.9->shap) (3.0.9)\n",
            "Requirement already satisfied: importlib-metadata in /usr/local/lib/python3.7/dist-packages (from numba->shap) (4.13.0)\n",
            "Requirement already satisfied: setuptools in /usr/local/lib/python3.7/dist-packages (from numba->shap) (57.4.0)\n",
            "Requirement already satisfied: llvmlite<0.40,>=0.39.0dev0 in /usr/local/lib/python3.7/dist-packages (from numba->shap) (0.39.1)\n",
            "Requirement already satisfied: typing-extensions>=3.6.4 in /usr/local/lib/python3.7/dist-packages (from importlib-metadata->numba->shap) (4.1.1)\n",
            "Requirement already satisfied: zipp>=0.5 in /usr/local/lib/python3.7/dist-packages (from importlib-metadata->numba->shap) (3.10.0)\n",
            "Requirement already satisfied: pytz>=2017.3 in /usr/local/lib/python3.7/dist-packages (from pandas->shap) (2022.6)\n",
            "Requirement already satisfied: python-dateutil>=2.7.3 in /usr/local/lib/python3.7/dist-packages (from pandas->shap) (2.8.2)\n",
            "Requirement already satisfied: six>=1.5 in /usr/local/lib/python3.7/dist-packages (from python-dateutil>=2.7.3->pandas->shap) (1.15.0)\n",
            "Requirement already satisfied: joblib>=0.11 in /usr/local/lib/python3.7/dist-packages (from scikit-learn->shap) (1.2.0)\n",
            "Requirement already satisfied: threadpoolctl>=2.0.0 in /usr/local/lib/python3.7/dist-packages (from scikit-learn->shap) (3.1.0)\n"
          ]
        }
      ],
      "source": [
        "#Importing Necessary Libraries\n",
        "import os\n",
        "import numpy as np\n",
        "import pandas as pd\n",
        "import matplotlib.pyplot as plt\n",
        "from scipy import stats\n",
        "import math\n",
        "import seaborn as sns\n",
        "!pip install shap\n",
        "import statsmodels.api as sm\n",
        "from sklearn.metrics import mean_squared_error\n",
        "from sklearn.model_selection import train_test_split\n",
        "from sklearn.inspection import permutation_importance\n",
        "import shap\n",
        "from sklearn.ensemble import RandomForestRegressor\n",
        "from sklearn.metrics import accuracy_score\n",
        "from sklearn.metrics import matthews_corrcoef\n",
        "from sklearn.metrics import f1_score\n",
        "from sklearn.neighbors import KNeighborsClassifier\n",
        "from sklearn.neural_network import MLPClassifier\n",
        "from sklearn.svm import SVC\n",
        "from sklearn.ensemble import StackingClassifier\n",
        "from sklearn.linear_model import LogisticRegression\n",
        "from sklearn.metrics import accuracy_score\n",
        "from sklearn.metrics import precision_score\n",
        "from sklearn.metrics import recall_score\n",
        "from sklearn.metrics import f1_score\n",
        "from sklearn.metrics import cohen_kappa_score\n",
        "from sklearn.metrics import roc_auc_score\n",
        "from sklearn.metrics import confusion_matrix\n",
        "from sklearn.metrics import roc_curve\n",
        "from sklearn.metrics import roc_auc_score\n",
        "from matplotlib import pyplot\n",
        "\n",
        "\n",
        "from sklearn.preprocessing import LabelEncoder\n"
      ]
    },
    {
      "cell_type": "code",
      "source": [],
      "metadata": {
        "id": "lZqJ-vrVD5l5"
      },
      "execution_count": null,
      "outputs": []
    },
    {
      "cell_type": "code",
      "source": [
        "from google.colab import drive\n",
        "drive.mount('/content/drive/')"
      ],
      "metadata": {
        "colab": {
          "base_uri": "https://localhost:8080/"
        },
        "id": "LANR6D0JyZv1",
        "outputId": "cf7a0ac0-654a-406a-dae0-a60db7cd4324"
      },
      "execution_count": null,
      "outputs": [
        {
          "output_type": "stream",
          "name": "stdout",
          "text": [
            "Drive already mounted at /content/drive/; to attempt to forcibly remount, call drive.mount(\"/content/drive/\", force_remount=True).\n"
          ]
        }
      ]
    },
    {
      "cell_type": "code",
      "source": [
        "#Importing the data\n",
        "store_1 = pd.read_csv(\"/content/drive/MyDrive/CECS551_dataset_01/store_features/store_01.csv\")\n",
        "store_2 = pd.read_excel(\"/content/drive/MyDrive/CECS551_dataset_01/store_features/store_02.csv\") #The data is formated as excel sheet but stored as csv extension.\n",
        "store_3 = pd.read_excel(\"/content/drive/MyDrive/CECS551_dataset_01/store_features/store_03.xlsx\")\n",
        "store_4 = pd.read_excel(\"/content/drive/MyDrive/CECS551_dataset_01/store_features/store_04.xlsx\")\n",
        "store_5 = pd.read_excel(\"/content/drive/MyDrive/CECS551_dataset_01/store_features/store_05.xlsx\")\n",
        "store_6 = pd.read_excel(\"/content/drive/MyDrive/CECS551_dataset_01/store_features/store_06.xlsx\")\n",
        "store_7 = pd.read_excel(\"/content/drive/MyDrive/CECS551_dataset_01/store_features/store_07.xlsx\")\n",
        "store_8 = pd.read_excel(\"/content/drive/MyDrive/CECS551_dataset_01/store_features/store_08.xlsx\")\n",
        "store_9 = pd.read_excel(\"/content/drive/MyDrive/CECS551_dataset_01/store_features/store_09.xlsx\")\n",
        "store_10 = pd.read_excel(\"/content/drive/MyDrive/CECS551_dataset_01/store_features/store_10.xlsx\")\n",
        "\n",
        "#Importing store type\n",
        "stores = pd.read_csv(\"/content/drive/MyDrive/CECS551_dataset_01/stores.csv\")\n"
      ],
      "metadata": {
        "id": "gUUqqNgtyjo8"
      },
      "execution_count": null,
      "outputs": []
    },
    {
      "cell_type": "code",
      "source": [
        "#changing Store 1 date format to make it consistent with the data\n",
        "store_1['Date'] = pd.to_datetime(store_1['Date'], format='%m/%d/%Y').dt.strftime('%Y/%m/%d')\n",
        "\n",
        "#concatinating all the stores together\n",
        "features = pd.concat([store_1,store_2,store_3,store_4,store_5,store_6,store_7,store_8,store_9,store_10])\n",
        "\n",
        "# Final dataset contating all the stores' features and store types\n",
        "stores_data = pd.merge(stores, features[['Store','Date','Unemployment','gas_price','Temperature','CPI','discount_promotional','discount_clearance','discount_damaged_good','discount_competitive']])\n",
        "\n",
        "#Finding NaN values in Discount columns.\n",
        "markdowns = ['discount_clearance','discount_promotional','discount_damaged_good', 'discount_competitive']\n",
        "for column_name in markdowns:\n",
        "    markdown_frac = features[column_name].isnull().sum() / features[column_name].shape[0]\n",
        "    print(f\"{int(100 * round(markdown_frac, 2))}% of {column_name} values are NaN.\")\n",
        "\n",
        "#Handling missing values\n",
        "stores_data.fillna(stores_data.mean())\n",
        "\n"
      ],
      "metadata": {
        "id": "CN78YjSGy-Mi",
        "colab": {
          "base_uri": "https://localhost:8080/",
          "height": 574
        },
        "outputId": "937d25ab-ce5e-452f-9247-a1b855f4223a"
      },
      "execution_count": null,
      "outputs": [
        {
          "output_type": "stream",
          "name": "stdout",
          "text": [
            "57% of discount_clearance values are NaN.\n",
            "46% of discount_promotional values are NaN.\n",
            "50% of discount_damaged_good values are NaN.\n",
            "47% of discount_competitive values are NaN.\n"
          ]
        },
        {
          "output_type": "stream",
          "name": "stderr",
          "text": [
            "Dropping of nuisance columns in DataFrame reductions (with 'numeric_only=None') is deprecated; in a future version this will raise TypeError.  Select only valid columns before calling the reduction.\n"
          ]
        },
        {
          "output_type": "execute_result",
          "data": {
            "text/plain": [
              "      Store Type    Size                 Date  Unemployment  gas_price  \\\n",
              "0         1    A  151315           2010/02/05      6.833000      3.360   \n",
              "1         1    A  151315           2010/02/12      6.833000      3.409   \n",
              "2         1    A  151315           2010/02/19      6.833000      3.510   \n",
              "3         1    A  151315           2010/02/26      6.833000      3.555   \n",
              "4         1    A  151315           2010/03/05      6.833000      3.630   \n",
              "...     ...  ...     ...                  ...           ...        ...   \n",
              "1815     10    B  126512  2013-06-28 00:00:00      6.783537      3.781   \n",
              "1816     10    B  126512  2013-07-05 00:00:00      6.783537      3.753   \n",
              "1817     10    B  126512  2013-07-12 00:00:00      6.783537      3.737   \n",
              "1818     10    B  126512  2013-07-19 00:00:00      6.783537      3.823   \n",
              "1819     10    B  126512  2013-07-26 00:00:00      6.783537      3.865   \n",
              "\n",
              "      Temperature         CPI  discount_promotional  discount_clearance  \\\n",
              "0           59.33  223.659114               9667.50              268.29   \n",
              "1           51.65  223.753643               8687.47             1594.87   \n",
              "2           52.39  223.917015               2706.87             3128.74   \n",
              "3           60.12  224.132020               6129.28             1802.84   \n",
              "4           61.65  224.347025               3552.58              601.32   \n",
              "...           ...         ...                   ...                 ...   \n",
              "1815        90.28  198.850394               5894.36              102.74   \n",
              "1816        93.54  198.850394              14076.31             1533.74   \n",
              "1817        87.18  198.850394               5894.71              393.58   \n",
              "1818        87.09  198.850394               7816.71              791.21   \n",
              "1819        83.32  198.850394               1221.15              936.36   \n",
              "\n",
              "      discount_damaged_good  discount_competitive  \n",
              "0                  0.600000               8368.15  \n",
              "1                  2.200000               2144.87  \n",
              "2                  1.880000               2396.68  \n",
              "3               1823.168202                301.48  \n",
              "4               1823.168202               2666.22  \n",
              "...                     ...                   ...  \n",
              "1815              10.500000               5852.61  \n",
              "1816             523.780000               7971.03  \n",
              "1817              38.540000               4523.58  \n",
              "1818             165.000000               8330.84  \n",
              "1819             165.500000                198.93  \n",
              "\n",
              "[1820 rows x 12 columns]"
            ],
            "text/html": [
              "\n",
              "  <div id=\"df-0c99c16c-dc21-4486-9a8b-b46a451c0718\">\n",
              "    <div class=\"colab-df-container\">\n",
              "      <div>\n",
              "<style scoped>\n",
              "    .dataframe tbody tr th:only-of-type {\n",
              "        vertical-align: middle;\n",
              "    }\n",
              "\n",
              "    .dataframe tbody tr th {\n",
              "        vertical-align: top;\n",
              "    }\n",
              "\n",
              "    .dataframe thead th {\n",
              "        text-align: right;\n",
              "    }\n",
              "</style>\n",
              "<table border=\"1\" class=\"dataframe\">\n",
              "  <thead>\n",
              "    <tr style=\"text-align: right;\">\n",
              "      <th></th>\n",
              "      <th>Store</th>\n",
              "      <th>Type</th>\n",
              "      <th>Size</th>\n",
              "      <th>Date</th>\n",
              "      <th>Unemployment</th>\n",
              "      <th>gas_price</th>\n",
              "      <th>Temperature</th>\n",
              "      <th>CPI</th>\n",
              "      <th>discount_promotional</th>\n",
              "      <th>discount_clearance</th>\n",
              "      <th>discount_damaged_good</th>\n",
              "      <th>discount_competitive</th>\n",
              "    </tr>\n",
              "  </thead>\n",
              "  <tbody>\n",
              "    <tr>\n",
              "      <th>0</th>\n",
              "      <td>1</td>\n",
              "      <td>A</td>\n",
              "      <td>151315</td>\n",
              "      <td>2010/02/05</td>\n",
              "      <td>6.833000</td>\n",
              "      <td>3.360</td>\n",
              "      <td>59.33</td>\n",
              "      <td>223.659114</td>\n",
              "      <td>9667.50</td>\n",
              "      <td>268.29</td>\n",
              "      <td>0.600000</td>\n",
              "      <td>8368.15</td>\n",
              "    </tr>\n",
              "    <tr>\n",
              "      <th>1</th>\n",
              "      <td>1</td>\n",
              "      <td>A</td>\n",
              "      <td>151315</td>\n",
              "      <td>2010/02/12</td>\n",
              "      <td>6.833000</td>\n",
              "      <td>3.409</td>\n",
              "      <td>51.65</td>\n",
              "      <td>223.753643</td>\n",
              "      <td>8687.47</td>\n",
              "      <td>1594.87</td>\n",
              "      <td>2.200000</td>\n",
              "      <td>2144.87</td>\n",
              "    </tr>\n",
              "    <tr>\n",
              "      <th>2</th>\n",
              "      <td>1</td>\n",
              "      <td>A</td>\n",
              "      <td>151315</td>\n",
              "      <td>2010/02/19</td>\n",
              "      <td>6.833000</td>\n",
              "      <td>3.510</td>\n",
              "      <td>52.39</td>\n",
              "      <td>223.917015</td>\n",
              "      <td>2706.87</td>\n",
              "      <td>3128.74</td>\n",
              "      <td>1.880000</td>\n",
              "      <td>2396.68</td>\n",
              "    </tr>\n",
              "    <tr>\n",
              "      <th>3</th>\n",
              "      <td>1</td>\n",
              "      <td>A</td>\n",
              "      <td>151315</td>\n",
              "      <td>2010/02/26</td>\n",
              "      <td>6.833000</td>\n",
              "      <td>3.555</td>\n",
              "      <td>60.12</td>\n",
              "      <td>224.132020</td>\n",
              "      <td>6129.28</td>\n",
              "      <td>1802.84</td>\n",
              "      <td>1823.168202</td>\n",
              "      <td>301.48</td>\n",
              "    </tr>\n",
              "    <tr>\n",
              "      <th>4</th>\n",
              "      <td>1</td>\n",
              "      <td>A</td>\n",
              "      <td>151315</td>\n",
              "      <td>2010/03/05</td>\n",
              "      <td>6.833000</td>\n",
              "      <td>3.630</td>\n",
              "      <td>61.65</td>\n",
              "      <td>224.347025</td>\n",
              "      <td>3552.58</td>\n",
              "      <td>601.32</td>\n",
              "      <td>1823.168202</td>\n",
              "      <td>2666.22</td>\n",
              "    </tr>\n",
              "    <tr>\n",
              "      <th>...</th>\n",
              "      <td>...</td>\n",
              "      <td>...</td>\n",
              "      <td>...</td>\n",
              "      <td>...</td>\n",
              "      <td>...</td>\n",
              "      <td>...</td>\n",
              "      <td>...</td>\n",
              "      <td>...</td>\n",
              "      <td>...</td>\n",
              "      <td>...</td>\n",
              "      <td>...</td>\n",
              "      <td>...</td>\n",
              "    </tr>\n",
              "    <tr>\n",
              "      <th>1815</th>\n",
              "      <td>10</td>\n",
              "      <td>B</td>\n",
              "      <td>126512</td>\n",
              "      <td>2013-06-28 00:00:00</td>\n",
              "      <td>6.783537</td>\n",
              "      <td>3.781</td>\n",
              "      <td>90.28</td>\n",
              "      <td>198.850394</td>\n",
              "      <td>5894.36</td>\n",
              "      <td>102.74</td>\n",
              "      <td>10.500000</td>\n",
              "      <td>5852.61</td>\n",
              "    </tr>\n",
              "    <tr>\n",
              "      <th>1816</th>\n",
              "      <td>10</td>\n",
              "      <td>B</td>\n",
              "      <td>126512</td>\n",
              "      <td>2013-07-05 00:00:00</td>\n",
              "      <td>6.783537</td>\n",
              "      <td>3.753</td>\n",
              "      <td>93.54</td>\n",
              "      <td>198.850394</td>\n",
              "      <td>14076.31</td>\n",
              "      <td>1533.74</td>\n",
              "      <td>523.780000</td>\n",
              "      <td>7971.03</td>\n",
              "    </tr>\n",
              "    <tr>\n",
              "      <th>1817</th>\n",
              "      <td>10</td>\n",
              "      <td>B</td>\n",
              "      <td>126512</td>\n",
              "      <td>2013-07-12 00:00:00</td>\n",
              "      <td>6.783537</td>\n",
              "      <td>3.737</td>\n",
              "      <td>87.18</td>\n",
              "      <td>198.850394</td>\n",
              "      <td>5894.71</td>\n",
              "      <td>393.58</td>\n",
              "      <td>38.540000</td>\n",
              "      <td>4523.58</td>\n",
              "    </tr>\n",
              "    <tr>\n",
              "      <th>1818</th>\n",
              "      <td>10</td>\n",
              "      <td>B</td>\n",
              "      <td>126512</td>\n",
              "      <td>2013-07-19 00:00:00</td>\n",
              "      <td>6.783537</td>\n",
              "      <td>3.823</td>\n",
              "      <td>87.09</td>\n",
              "      <td>198.850394</td>\n",
              "      <td>7816.71</td>\n",
              "      <td>791.21</td>\n",
              "      <td>165.000000</td>\n",
              "      <td>8330.84</td>\n",
              "    </tr>\n",
              "    <tr>\n",
              "      <th>1819</th>\n",
              "      <td>10</td>\n",
              "      <td>B</td>\n",
              "      <td>126512</td>\n",
              "      <td>2013-07-26 00:00:00</td>\n",
              "      <td>6.783537</td>\n",
              "      <td>3.865</td>\n",
              "      <td>83.32</td>\n",
              "      <td>198.850394</td>\n",
              "      <td>1221.15</td>\n",
              "      <td>936.36</td>\n",
              "      <td>165.500000</td>\n",
              "      <td>198.93</td>\n",
              "    </tr>\n",
              "  </tbody>\n",
              "</table>\n",
              "<p>1820 rows × 12 columns</p>\n",
              "</div>\n",
              "      <button class=\"colab-df-convert\" onclick=\"convertToInteractive('df-0c99c16c-dc21-4486-9a8b-b46a451c0718')\"\n",
              "              title=\"Convert this dataframe to an interactive table.\"\n",
              "              style=\"display:none;\">\n",
              "        \n",
              "  <svg xmlns=\"http://www.w3.org/2000/svg\" height=\"24px\"viewBox=\"0 0 24 24\"\n",
              "       width=\"24px\">\n",
              "    <path d=\"M0 0h24v24H0V0z\" fill=\"none\"/>\n",
              "    <path d=\"M18.56 5.44l.94 2.06.94-2.06 2.06-.94-2.06-.94-.94-2.06-.94 2.06-2.06.94zm-11 1L8.5 8.5l.94-2.06 2.06-.94-2.06-.94L8.5 2.5l-.94 2.06-2.06.94zm10 10l.94 2.06.94-2.06 2.06-.94-2.06-.94-.94-2.06-.94 2.06-2.06.94z\"/><path d=\"M17.41 7.96l-1.37-1.37c-.4-.4-.92-.59-1.43-.59-.52 0-1.04.2-1.43.59L10.3 9.45l-7.72 7.72c-.78.78-.78 2.05 0 2.83L4 21.41c.39.39.9.59 1.41.59.51 0 1.02-.2 1.41-.59l7.78-7.78 2.81-2.81c.8-.78.8-2.07 0-2.86zM5.41 20L4 18.59l7.72-7.72 1.47 1.35L5.41 20z\"/>\n",
              "  </svg>\n",
              "      </button>\n",
              "      \n",
              "  <style>\n",
              "    .colab-df-container {\n",
              "      display:flex;\n",
              "      flex-wrap:wrap;\n",
              "      gap: 12px;\n",
              "    }\n",
              "\n",
              "    .colab-df-convert {\n",
              "      background-color: #E8F0FE;\n",
              "      border: none;\n",
              "      border-radius: 50%;\n",
              "      cursor: pointer;\n",
              "      display: none;\n",
              "      fill: #1967D2;\n",
              "      height: 32px;\n",
              "      padding: 0 0 0 0;\n",
              "      width: 32px;\n",
              "    }\n",
              "\n",
              "    .colab-df-convert:hover {\n",
              "      background-color: #E2EBFA;\n",
              "      box-shadow: 0px 1px 2px rgba(60, 64, 67, 0.3), 0px 1px 3px 1px rgba(60, 64, 67, 0.15);\n",
              "      fill: #174EA6;\n",
              "    }\n",
              "\n",
              "    [theme=dark] .colab-df-convert {\n",
              "      background-color: #3B4455;\n",
              "      fill: #D2E3FC;\n",
              "    }\n",
              "\n",
              "    [theme=dark] .colab-df-convert:hover {\n",
              "      background-color: #434B5C;\n",
              "      box-shadow: 0px 1px 3px 1px rgba(0, 0, 0, 0.15);\n",
              "      filter: drop-shadow(0px 1px 2px rgba(0, 0, 0, 0.3));\n",
              "      fill: #FFFFFF;\n",
              "    }\n",
              "  </style>\n",
              "\n",
              "      <script>\n",
              "        const buttonEl =\n",
              "          document.querySelector('#df-0c99c16c-dc21-4486-9a8b-b46a451c0718 button.colab-df-convert');\n",
              "        buttonEl.style.display =\n",
              "          google.colab.kernel.accessAllowed ? 'block' : 'none';\n",
              "\n",
              "        async function convertToInteractive(key) {\n",
              "          const element = document.querySelector('#df-0c99c16c-dc21-4486-9a8b-b46a451c0718');\n",
              "          const dataTable =\n",
              "            await google.colab.kernel.invokeFunction('convertToInteractive',\n",
              "                                                     [key], {});\n",
              "          if (!dataTable) return;\n",
              "\n",
              "          const docLinkHtml = 'Like what you see? Visit the ' +\n",
              "            '<a target=\"_blank\" href=https://colab.research.google.com/notebooks/data_table.ipynb>data table notebook</a>'\n",
              "            + ' to learn more about interactive tables.';\n",
              "          element.innerHTML = '';\n",
              "          dataTable['output_type'] = 'display_data';\n",
              "          await google.colab.output.renderOutput(dataTable, element);\n",
              "          const docLink = document.createElement('div');\n",
              "          docLink.innerHTML = docLinkHtml;\n",
              "          element.appendChild(docLink);\n",
              "        }\n",
              "      </script>\n",
              "    </div>\n",
              "  </div>\n",
              "  "
            ]
          },
          "metadata": {},
          "execution_count": 51
        }
      ]
    },
    {
      "cell_type": "code",
      "source": [
        "# Enconding the target variable as it is a categorical feature with types A, B and C\n",
        "target = 'Type'\n",
        "labelencoder = LabelEncoder()\n",
        "stores_data['Type'] = labelencoder.fit_transform(stores_data['Type'])\n",
        "\n",
        "#Selecting target variable\n",
        "y = stores_data[target]\n",
        "X = stores_data.drop(columns=[target, \"Date\",\"Store\"])\n",
        "\n",
        "# Handling missing values\n",
        "X = X.fillna(stores_data.mean())\n",
        "y = y.fillna(y.mode()[0])\n",
        "\n",
        "#Train test splitting[80/20]\n",
        "X_train, X_test, y_train, y_test = train_test_split(X, y, test_size=.2, random_state=10)"
      ],
      "metadata": {
        "colab": {
          "base_uri": "https://localhost:8080/"
        },
        "id": "jNNjAINx390r",
        "outputId": "c7d2818e-d912-4f09-a45b-6c6e3a620113"
      },
      "execution_count": null,
      "outputs": [
        {
          "output_type": "stream",
          "name": "stderr",
          "text": [
            "Dropping of nuisance columns in DataFrame reductions (with 'numeric_only=None') is deprecated; in a future version this will raise TypeError.  Select only valid columns before calling the reduction.\n"
          ]
        }
      ]
    },
    {
      "cell_type": "markdown",
      "source": [
        "##Recurrent Neural Network"
      ],
      "metadata": {
        "id": "fnzVRt986DZz"
      }
    },
    {
      "cell_type": "code",
      "source": [
        "#imports\n",
        "import tensorflow as tf\n",
        "from tensorflow.keras.models import Sequential\n",
        "from tensorflow.keras.layers import Dense, Dropout, LSTM"
      ],
      "metadata": {
        "id": "1Fr-CIITjeFb"
      },
      "execution_count": null,
      "outputs": []
    },
    {
      "cell_type": "code",
      "source": [
        "#reshaping X_test to make it compatible as an input for the model\n",
        "\n",
        "X_train = np.asarray(X_train)\n",
        "X_train = np.reshape(X_train, (X_train.shape[0], X_train.shape[1], 1))"
      ],
      "metadata": {
        "id": "yehAjPT76sT_"
      },
      "execution_count": null,
      "outputs": []
    },
    {
      "cell_type": "code",
      "source": [
        "#Declaring a sequential model\n",
        "rnn = Sequential()\n",
        "\n",
        "#Adding an input layer of 45 units with a dropout value of 0.2\n",
        "rnn.add(LSTM(units = 45, return_sequences = True, input_shape = (X_train.shape[1], 1)))\n",
        "rnn.add(Dropout(0.2))\n",
        "\n",
        "#Adding three hidden layers of 45 units with dropout value 0.2\n",
        "rnn.add(LSTM(units = 45, return_sequences = False))\n",
        "rnn.add(Dropout(0.2))\n",
        "\n",
        "#rnn.add(LSTM(units = 45, return_sequences = True))\n",
        "#rnn.add(Dropout(0.2))\n",
        "\n",
        "#rnn.add(LSTM(units = 45))\n",
        "#rnn.add(Dropout(0.2))\n",
        "\n",
        "#Output layer with one unit\n",
        "rnn.add(Dense(units = 1, activation='sigmoid'))"
      ],
      "metadata": {
        "id": "aKlvSRFR1IFG"
      },
      "execution_count": null,
      "outputs": []
    },
    {
      "cell_type": "code",
      "source": [
        "#Compiling the sequential model\n",
        "rnn.compile(loss='binary_crossentropy', optimizer='adam')"
      ],
      "metadata": {
        "id": "ruUoqct51IFO"
      },
      "execution_count": null,
      "outputs": []
    },
    {
      "cell_type": "code",
      "source": [
        "#Converting every value in X_train into np.float32 data type\n",
        "X_train = np.asarray(X_train).astype(np.float32)"
      ],
      "metadata": {
        "id": "sPFN2TqM1IFO"
      },
      "execution_count": null,
      "outputs": []
    },
    {
      "cell_type": "code",
      "source": [
        "#Fitting the rnn model to the dataset\n",
        "rnn.fit(X_train, y_train, epochs = 100, batch_size = 128)"
      ],
      "metadata": {
        "colab": {
          "base_uri": "https://localhost:8080/"
        },
        "outputId": "2dff05a7-ce24-4bb6-fa79-60dcbead6bcb",
        "id": "6s_g10wl1IFO"
      },
      "execution_count": null,
      "outputs": [
        {
          "output_type": "stream",
          "name": "stdout",
          "text": [
            "Epoch 1/100\n",
            "12/12 [==============================] - 5s 22ms/step - loss: 0.7044\n",
            "Epoch 2/100\n",
            "12/12 [==============================] - 0s 24ms/step - loss: 0.6980\n",
            "Epoch 3/100\n",
            "12/12 [==============================] - 0s 20ms/step - loss: 0.6915\n",
            "Epoch 4/100\n",
            "12/12 [==============================] - 0s 20ms/step - loss: 0.6844\n",
            "Epoch 5/100\n",
            "12/12 [==============================] - 0s 20ms/step - loss: 0.6742\n",
            "Epoch 6/100\n",
            "12/12 [==============================] - 0s 22ms/step - loss: 0.6516\n",
            "Epoch 7/100\n",
            "12/12 [==============================] - 0s 21ms/step - loss: 0.6140\n",
            "Epoch 8/100\n",
            "12/12 [==============================] - 0s 21ms/step - loss: 0.5843\n",
            "Epoch 9/100\n",
            "12/12 [==============================] - 0s 20ms/step - loss: 0.5751\n",
            "Epoch 10/100\n",
            "12/12 [==============================] - 0s 22ms/step - loss: 0.5702\n",
            "Epoch 11/100\n",
            "12/12 [==============================] - 0s 21ms/step - loss: 0.5759\n",
            "Epoch 12/100\n",
            "12/12 [==============================] - 0s 20ms/step - loss: 0.5720\n",
            "Epoch 13/100\n",
            "12/12 [==============================] - 0s 21ms/step - loss: 0.5578\n",
            "Epoch 14/100\n",
            "12/12 [==============================] - 0s 21ms/step - loss: 0.5537\n",
            "Epoch 15/100\n",
            "12/12 [==============================] - 0s 20ms/step - loss: 0.5449\n",
            "Epoch 16/100\n",
            "12/12 [==============================] - 0s 20ms/step - loss: 0.5410\n",
            "Epoch 17/100\n",
            "12/12 [==============================] - 0s 20ms/step - loss: 0.5309\n",
            "Epoch 18/100\n",
            "12/12 [==============================] - 0s 23ms/step - loss: 0.5320\n",
            "Epoch 19/100\n",
            "12/12 [==============================] - 0s 20ms/step - loss: 0.5199\n",
            "Epoch 20/100\n",
            "12/12 [==============================] - 0s 21ms/step - loss: 0.5143\n",
            "Epoch 21/100\n",
            "12/12 [==============================] - 0s 21ms/step - loss: 0.5063\n",
            "Epoch 22/100\n",
            "12/12 [==============================] - 0s 22ms/step - loss: 0.4893\n",
            "Epoch 23/100\n",
            "12/12 [==============================] - 0s 20ms/step - loss: 0.4723\n",
            "Epoch 24/100\n",
            "12/12 [==============================] - 0s 21ms/step - loss: 0.4816\n",
            "Epoch 25/100\n",
            "12/12 [==============================] - 0s 20ms/step - loss: 0.4427\n",
            "Epoch 26/100\n",
            "12/12 [==============================] - 0s 25ms/step - loss: 0.4301\n",
            "Epoch 27/100\n",
            "12/12 [==============================] - 0s 20ms/step - loss: 0.4005\n",
            "Epoch 28/100\n",
            "12/12 [==============================] - 0s 20ms/step - loss: 0.4096\n",
            "Epoch 29/100\n",
            "12/12 [==============================] - 0s 22ms/step - loss: 0.3960\n",
            "Epoch 30/100\n",
            "12/12 [==============================] - 0s 20ms/step - loss: 0.3843\n",
            "Epoch 31/100\n",
            "12/12 [==============================] - 0s 20ms/step - loss: 0.3850\n",
            "Epoch 32/100\n",
            "12/12 [==============================] - 0s 21ms/step - loss: 0.3540\n",
            "Epoch 33/100\n",
            "12/12 [==============================] - 0s 21ms/step - loss: 0.3775\n",
            "Epoch 34/100\n",
            "12/12 [==============================] - 0s 23ms/step - loss: 0.3633\n",
            "Epoch 35/100\n",
            "12/12 [==============================] - 0s 20ms/step - loss: 0.3606\n",
            "Epoch 36/100\n",
            "12/12 [==============================] - 0s 22ms/step - loss: 0.3366\n",
            "Epoch 37/100\n",
            "12/12 [==============================] - 0s 21ms/step - loss: 0.3402\n",
            "Epoch 38/100\n",
            "12/12 [==============================] - 0s 20ms/step - loss: 0.3285\n",
            "Epoch 39/100\n",
            "12/12 [==============================] - 0s 20ms/step - loss: 0.3389\n",
            "Epoch 40/100\n",
            "12/12 [==============================] - 0s 20ms/step - loss: 0.3285\n",
            "Epoch 41/100\n",
            "12/12 [==============================] - 0s 20ms/step - loss: 0.3193\n",
            "Epoch 42/100\n",
            "12/12 [==============================] - 0s 21ms/step - loss: 0.3349\n",
            "Epoch 43/100\n",
            "12/12 [==============================] - 0s 20ms/step - loss: 0.3378\n",
            "Epoch 44/100\n",
            "12/12 [==============================] - 0s 22ms/step - loss: 0.3200\n",
            "Epoch 45/100\n",
            "12/12 [==============================] - 0s 21ms/step - loss: 0.2918\n",
            "Epoch 46/100\n",
            "12/12 [==============================] - 0s 20ms/step - loss: 0.2940\n",
            "Epoch 47/100\n",
            "12/12 [==============================] - 0s 20ms/step - loss: 0.3075\n",
            "Epoch 48/100\n",
            "12/12 [==============================] - 0s 21ms/step - loss: 0.4081\n",
            "Epoch 49/100\n",
            "12/12 [==============================] - 0s 21ms/step - loss: 0.3055\n",
            "Epoch 50/100\n",
            "12/12 [==============================] - 0s 20ms/step - loss: 0.2819\n",
            "Epoch 51/100\n",
            "12/12 [==============================] - 0s 21ms/step - loss: 0.2552\n",
            "Epoch 52/100\n",
            "12/12 [==============================] - 0s 20ms/step - loss: 0.2524\n",
            "Epoch 53/100\n",
            "12/12 [==============================] - 0s 20ms/step - loss: 0.2478\n",
            "Epoch 54/100\n",
            "12/12 [==============================] - 0s 20ms/step - loss: 0.2340\n",
            "Epoch 55/100\n",
            "12/12 [==============================] - 0s 20ms/step - loss: 0.2492\n",
            "Epoch 56/100\n",
            "12/12 [==============================] - 0s 21ms/step - loss: 0.2223\n",
            "Epoch 57/100\n",
            "12/12 [==============================] - 0s 20ms/step - loss: 0.2506\n",
            "Epoch 58/100\n",
            "12/12 [==============================] - 0s 21ms/step - loss: 0.2352\n",
            "Epoch 59/100\n",
            "12/12 [==============================] - 0s 20ms/step - loss: 0.2010\n",
            "Epoch 60/100\n",
            "12/12 [==============================] - 0s 20ms/step - loss: 0.1878\n",
            "Epoch 61/100\n",
            "12/12 [==============================] - 0s 20ms/step - loss: 0.2043\n",
            "Epoch 62/100\n",
            "12/12 [==============================] - 0s 21ms/step - loss: 0.1835\n",
            "Epoch 63/100\n",
            "12/12 [==============================] - 0s 21ms/step - loss: 0.2031\n",
            "Epoch 64/100\n",
            "12/12 [==============================] - 0s 20ms/step - loss: 0.2187\n",
            "Epoch 65/100\n",
            "12/12 [==============================] - 0s 21ms/step - loss: 0.1825\n",
            "Epoch 66/100\n",
            "12/12 [==============================] - 0s 20ms/step - loss: 0.1793\n",
            "Epoch 67/100\n",
            "12/12 [==============================] - 0s 19ms/step - loss: 0.1784\n",
            "Epoch 68/100\n",
            "12/12 [==============================] - 0s 20ms/step - loss: 0.2063\n",
            "Epoch 69/100\n",
            "12/12 [==============================] - 0s 20ms/step - loss: 0.1774\n",
            "Epoch 70/100\n",
            "12/12 [==============================] - 0s 21ms/step - loss: 0.1511\n",
            "Epoch 71/100\n",
            "12/12 [==============================] - 0s 21ms/step - loss: 0.1592\n",
            "Epoch 72/100\n",
            "12/12 [==============================] - 0s 21ms/step - loss: 0.1726\n",
            "Epoch 73/100\n",
            "12/12 [==============================] - 0s 21ms/step - loss: 0.1511\n",
            "Epoch 74/100\n",
            "12/12 [==============================] - 0s 21ms/step - loss: 0.1568\n",
            "Epoch 75/100\n",
            "12/12 [==============================] - 0s 20ms/step - loss: 0.1876\n",
            "Epoch 76/100\n",
            "12/12 [==============================] - 0s 20ms/step - loss: 0.1696\n",
            "Epoch 77/100\n",
            "12/12 [==============================] - 0s 21ms/step - loss: 0.1622\n",
            "Epoch 78/100\n",
            "12/12 [==============================] - 0s 22ms/step - loss: 0.1482\n",
            "Epoch 79/100\n",
            "12/12 [==============================] - 0s 22ms/step - loss: 0.1479\n",
            "Epoch 80/100\n",
            "12/12 [==============================] - 0s 21ms/step - loss: 0.1646\n",
            "Epoch 81/100\n",
            "12/12 [==============================] - 0s 21ms/step - loss: 0.1298\n",
            "Epoch 82/100\n",
            "12/12 [==============================] - 0s 21ms/step - loss: 0.1271\n",
            "Epoch 83/100\n",
            "12/12 [==============================] - 0s 20ms/step - loss: 0.1350\n",
            "Epoch 84/100\n",
            "12/12 [==============================] - 0s 21ms/step - loss: 0.1641\n",
            "Epoch 85/100\n",
            "12/12 [==============================] - 0s 20ms/step - loss: 0.1679\n",
            "Epoch 86/100\n",
            "12/12 [==============================] - 0s 22ms/step - loss: 0.1617\n",
            "Epoch 87/100\n",
            "12/12 [==============================] - 0s 21ms/step - loss: 0.1860\n",
            "Epoch 88/100\n",
            "12/12 [==============================] - 0s 21ms/step - loss: 0.1481\n",
            "Epoch 89/100\n",
            "12/12 [==============================] - 0s 21ms/step - loss: 0.1507\n",
            "Epoch 90/100\n",
            "12/12 [==============================] - 0s 20ms/step - loss: 0.1305\n",
            "Epoch 91/100\n",
            "12/12 [==============================] - 0s 21ms/step - loss: 0.1234\n",
            "Epoch 92/100\n",
            "12/12 [==============================] - 0s 21ms/step - loss: 0.1617\n",
            "Epoch 93/100\n",
            "12/12 [==============================] - 0s 22ms/step - loss: 0.1438\n",
            "Epoch 94/100\n",
            "12/12 [==============================] - 0s 21ms/step - loss: 0.1275\n",
            "Epoch 95/100\n",
            "12/12 [==============================] - 0s 22ms/step - loss: 0.1134\n",
            "Epoch 96/100\n",
            "12/12 [==============================] - 0s 20ms/step - loss: 0.1088\n",
            "Epoch 97/100\n",
            "12/12 [==============================] - 0s 22ms/step - loss: 0.1185\n",
            "Epoch 98/100\n",
            "12/12 [==============================] - 0s 21ms/step - loss: 0.1237\n",
            "Epoch 99/100\n",
            "12/12 [==============================] - 0s 21ms/step - loss: 0.1091\n",
            "Epoch 100/100\n",
            "12/12 [==============================] - 0s 21ms/step - loss: 0.1176\n"
          ]
        },
        {
          "output_type": "execute_result",
          "data": {
            "text/plain": [
              "<keras.callbacks.History at 0x7f468f94f550>"
            ]
          },
          "metadata": {},
          "execution_count": 72
        }
      ]
    },
    {
      "cell_type": "code",
      "source": [
        "#reshaping X_test to make it compatible as an input for the model\n",
        "X_test = np.array(X_test)\n",
        "X_test = np.reshape(X_test, (X_test.shape[0], X_test.shape[1], 1))"
      ],
      "metadata": {
        "id": "exNHh23M1IFO"
      },
      "execution_count": null,
      "outputs": []
    },
    {
      "cell_type": "code",
      "source": [
        "#Predicting the store types\n",
        "y_pred = rnn.predict(X_test)\n",
        "y_pred = np.round(y_pred).astype(int)\n",
        "y_pred.reshape(364)"
      ],
      "metadata": {
        "colab": {
          "base_uri": "https://localhost:8080/"
        },
        "outputId": "ceb13d9c-46e2-480f-b887-757808e6c97c",
        "id": "GMPNOF4h1IFO"
      },
      "execution_count": null,
      "outputs": [
        {
          "output_type": "stream",
          "name": "stdout",
          "text": [
            "12/12 [==============================] - 1s 4ms/step\n"
          ]
        },
        {
          "output_type": "execute_result",
          "data": {
            "text/plain": [
              "array([1, 1, 1, 1, 0, 0, 0, 1, 0, 0, 1, 0, 1, 0, 0, 1, 1, 1, 1, 1, 1, 0,\n",
              "       1, 0, 0, 1, 0, 0, 1, 1, 1, 0, 0, 1, 1, 0, 1, 0, 0, 0, 1, 1, 0, 0,\n",
              "       1, 0, 0, 1, 1, 1, 1, 0, 1, 0, 1, 0, 1, 1, 0, 1, 1, 0, 1, 1, 0, 1,\n",
              "       1, 0, 0, 1, 1, 0, 0, 1, 1, 1, 1, 1, 0, 0, 1, 0, 0, 1, 0, 1, 0, 1,\n",
              "       1, 0, 1, 1, 0, 1, 0, 0, 0, 0, 0, 0, 0, 0, 1, 0, 0, 1, 0, 1, 1, 1,\n",
              "       0, 1, 0, 0, 1, 0, 1, 0, 0, 0, 1, 1, 0, 0, 0, 1, 1, 1, 0, 1, 0, 1,\n",
              "       0, 1, 0, 1, 0, 1, 1, 1, 1, 1, 1, 0, 1, 0, 0, 1, 1, 1, 1, 0, 1, 1,\n",
              "       0, 1, 0, 0, 0, 1, 0, 0, 1, 1, 1, 0, 1, 0, 1, 0, 0, 1, 0, 0, 0, 1,\n",
              "       1, 0, 1, 1, 0, 1, 1, 1, 0, 0, 1, 1, 1, 0, 0, 1, 1, 1, 0, 0, 0, 0,\n",
              "       1, 1, 1, 1, 1, 0, 1, 1, 0, 1, 0, 0, 0, 0, 0, 1, 0, 1, 0, 0, 0, 0,\n",
              "       1, 1, 1, 0, 0, 1, 0, 0, 0, 0, 1, 0, 1, 0, 0, 0, 0, 0, 1, 0, 0, 1,\n",
              "       1, 1, 1, 0, 1, 1, 1, 0, 0, 1, 1, 0, 0, 1, 0, 1, 1, 0, 1, 0, 0, 1,\n",
              "       1, 1, 1, 1, 0, 1, 1, 0, 1, 0, 0, 0, 0, 1, 0, 0, 1, 1, 0, 1, 0, 1,\n",
              "       1, 0, 0, 0, 0, 1, 0, 0, 0, 1, 1, 1, 1, 1, 0, 1, 0, 1, 1, 0, 0, 1,\n",
              "       1, 0, 0, 1, 1, 1, 1, 0, 0, 1, 0, 0, 1, 1, 0, 1, 1, 0, 1, 0, 0, 1,\n",
              "       1, 1, 1, 1, 1, 1, 0, 0, 0, 1, 0, 1, 1, 1, 1, 0, 1, 0, 1, 1, 1, 0,\n",
              "       1, 0, 1, 0, 1, 1, 1, 1, 1, 0, 1, 0])"
            ]
          },
          "metadata": {},
          "execution_count": 74
        }
      ]
    },
    {
      "cell_type": "code",
      "source": [
        "#ROC Curve\n",
        "\n",
        "from sklearn.metrics import roc_curve\n",
        "from sklearn.metrics import roc_auc_score\n",
        "from matplotlib import pyplot\n",
        "# calculating AUC score\n",
        "lr_auc = roc_auc_score(y_test, y_pred)\n",
        "print('ROC AUC Score: %.3f' % (lr_auc))\n",
        "# calculating values for roc curve\n",
        "lr_fpr, lr_tpr, _ = roc_curve(y_test, y_pred)\n",
        "# plotting the roc curve for the model\n",
        "pyplot.plot(lr_fpr, lr_tpr, marker='.')\n",
        "pyplot.xlabel('False Positive Rate')\n",
        "pyplot.ylabel('True Positive Rate')\n",
        "pyplot.text(0.55, 0.8, \"AUC Score: %.3f\" % (lr_auc))\n",
        "pyplot.show()"
      ],
      "metadata": {
        "colab": {
          "base_uri": "https://localhost:8080/",
          "height": 297
        },
        "outputId": "46d7ce23-69d2-46ac-c037-6e164fa88ddb",
        "id": "wXJVQ9WV1IFO"
      },
      "execution_count": null,
      "outputs": [
        {
          "output_type": "stream",
          "name": "stdout",
          "text": [
            "ROC AUC Score: 0.962\n"
          ]
        },
        {
          "output_type": "display_data",
          "data": {
            "text/plain": [
              "<Figure size 432x288 with 1 Axes>"
            ],
            "image/png": "[encoded data removed]"
          },
          "metadata": {
            "needs_background": "light"
          }
        }
      ]
    },
    {
      "cell_type": "code",
      "source": [
        "#Calculating Precision-Recall, confusion matrix, F1 score\n",
        "from sklearn.metrics import accuracy_score\n",
        "from sklearn.metrics import precision_score\n",
        "from sklearn.metrics import recall_score\n",
        "from sklearn.metrics import f1_score\n",
        "from sklearn.metrics import cohen_kappa_score\n",
        "from sklearn.metrics import roc_auc_score\n",
        "from sklearn.metrics import confusion_matrix\n",
        "\n",
        "accuracy = accuracy_score(y_test, y_pred)\n",
        "print('Accuracy: %f' % accuracy)\n",
        "precision = precision_score(y_test, y_pred, average='micro')\n",
        "print('Precision: %f' % precision)\n",
        "recall = recall_score(y_test, y_pred)\n",
        "print('Recall: %f' % recall)\n",
        "f1 = f1_score(y_test, y_pred)\n",
        "print('F1 score: %f' % f1)\n",
        "matrix = confusion_matrix(y_test, y_pred)\n",
        "print(\"Confusion Matrix:\")\n",
        "print(matrix)"
      ],
      "metadata": {
        "colab": {
          "base_uri": "https://localhost:8080/"
        },
        "outputId": "97551a53-eb3c-4059-de42-7b7e05fd7e33",
        "id": "rdt92t591IFO"
      },
      "execution_count": null,
      "outputs": [
        {
          "output_type": "error",
          "ename": "NameError",
          "evalue": "ignored",
          "traceback": [
            "\u001b[0;31m---------------------------------------------------------------------------\u001b[0m",
            "\u001b[0;31mNameError\u001b[0m                                 Traceback (most recent call last)",
            "\u001b[0;32m<ipython-input-1-b749d070e686>\u001b[0m in \u001b[0;36m<module>\u001b[0;34m\u001b[0m\n\u001b[1;32m      8\u001b[0m \u001b[0;32mfrom\u001b[0m \u001b[0msklearn\u001b[0m\u001b[0;34m.\u001b[0m\u001b[0mmetrics\u001b[0m \u001b[0;32mimport\u001b[0m \u001b[0mconfusion_matrix\u001b[0m\u001b[0;34m\u001b[0m\u001b[0;34m\u001b[0m\u001b[0m\n\u001b[1;32m      9\u001b[0m \u001b[0;34m\u001b[0m\u001b[0m\n\u001b[0;32m---> 10\u001b[0;31m \u001b[0maccuracy\u001b[0m \u001b[0;34m=\u001b[0m \u001b[0maccuracy_score\u001b[0m\u001b[0;34m(\u001b[0m\u001b[0my_test\u001b[0m\u001b[0;34m,\u001b[0m \u001b[0my_pred\u001b[0m\u001b[0;34m)\u001b[0m\u001b[0;34m\u001b[0m\u001b[0;34m\u001b[0m\u001b[0m\n\u001b[0m\u001b[1;32m     11\u001b[0m \u001b[0mprint\u001b[0m\u001b[0;34m(\u001b[0m\u001b[0;34m'Accuracy: %f'\u001b[0m \u001b[0;34m%\u001b[0m \u001b[0maccuracy\u001b[0m\u001b[0;34m)\u001b[0m\u001b[0;34m\u001b[0m\u001b[0;34m\u001b[0m\u001b[0m\n\u001b[1;32m     12\u001b[0m \u001b[0mprecision\u001b[0m \u001b[0;34m=\u001b[0m \u001b[0mprecision_score\u001b[0m\u001b[0;34m(\u001b[0m\u001b[0my_test\u001b[0m\u001b[0;34m,\u001b[0m \u001b[0my_pred\u001b[0m\u001b[0;34m,\u001b[0m \u001b[0maverage\u001b[0m\u001b[0;34m=\u001b[0m\u001b[0;34m'micro'\u001b[0m\u001b[0;34m)\u001b[0m\u001b[0;34m\u001b[0m\u001b[0;34m\u001b[0m\u001b[0m\n",
            "\u001b[0;31mNameError\u001b[0m: name 'y_test' is not defined"
          ]
        }
      ]
    },
    {
      "cell_type": "markdown",
      "source": [
        "## ens"
      ],
      "metadata": {
        "id": "9AHZQkNDrbjE"
      }
    },
    {
      "cell_type": "code",
      "source": [
        "# KNN Classifier\n",
        "\n",
        "# Define and train classifier\n",
        "knn = KNeighborsClassifier(3)\n",
        "knn.fit(X_train, y_train)\n",
        "\n",
        "# Make prediction\n",
        "y_test_pred = knn.predict(X_test)\n",
        "\n",
        "# Calculate Accuracy\n",
        "knn_test_accuracy = accuracy_score(y_test, y_test_pred)\n",
        "\n",
        "# Calculate F1-score\n",
        "knn_test_f1 = f1_score(y_test, y_test_pred, average='micro')\n",
        "\n",
        "print('Model performance for Test set')\n",
        "accuracy = accuracy_score(y_test, y_test_pred)\n",
        "print('Accuracy: %f' % accuracy)\n",
        "precision = precision_score(y_test, y_test_pred, average='micro')\n",
        "print('Precision: %f' % precision)\n",
        "recall = recall_score(y_test, y_test_pred, average='micro')\n",
        "print('Recall: %f' % recall)\n",
        "f1 = f1_score(y_test, y_test_pred, average='micro')\n",
        "print('F1 score: %f' % f1)"
      ],
      "metadata": {
        "colab": {
          "base_uri": "https://localhost:8080/"
        },
        "id": "s4Q-yNYOdpjV",
        "outputId": "5a1b1f47-9a86-4586-c295-bce88018fab1"
      },
      "execution_count": null,
      "outputs": [
        {
          "output_type": "stream",
          "name": "stdout",
          "text": [
            "Model performance for Test set\n",
            "Accuracy: 0.994505\n",
            "Precision: 0.994505\n",
            "Recall: 0.994505\n",
            "F1 score: 0.994505\n"
          ]
        }
      ]
    },
    {
      "cell_type": "code",
      "source": [
        "from sklearn.metrics import accuracy_score\n",
        "from sklearn.metrics import precision_score\n",
        "from sklearn.metrics import recall_score\n",
        "from sklearn.metrics import f1_score\n",
        "from sklearn.metrics import cohen_kappa_score\n",
        "from sklearn.metrics import roc_auc_score\n",
        "from sklearn.metrics import confusion_matrix\n",
        "\n",
        "knn_test_accuracy = accuracy_score(y_test, y_test_pred)\n",
        "print('Accuracy: %f' % knn_test_accuracy)\n",
        "knn_test_precision = precision_score(y_test, y_test_pred, average='micro')\n",
        "print('Precision: %f' % knn_test_precision)\n",
        "knn_test_recall = recall_score(y_test, y_test_pred, average='micro')\n",
        "print('Recall: %f' % knn_test_recall)\n",
        "knn_test_f1 = f1_score(y_test, y_test_pred, average='micro')\n",
        "print('F1 score: %f' % knn_test_f1)\n",
        "knn_test_matrix = confusion_matrix(y_test, y_test_pred)\n",
        "print(\"Confusion Matrix:\")\n",
        "print(knn_test_matrix)\n",
        "\n",
        "# calculating AUC score\n",
        "knn_test_lr_auc = roc_auc_score(y_test, y_test_pred)\n",
        "print('ROC AUC Score: %.3f' % (knn_test_lr_auc))\n",
        "# calculating values for roc curve\n",
        "lr_fpr, lr_tpr, _ = roc_curve(y_test, y_test_pred)\n",
        "# plotting the roc curve for the model\n",
        "pyplot.plot(lr_fpr, lr_tpr, marker='.')\n",
        "pyplot.xlabel('False Positive Rate')\n",
        "pyplot.ylabel('True Positive Rate')\n",
        "pyplot.text(0.55, 0.8, \"AUC Score: %.3f\" % (knn_test_lr_auc))\n",
        "pyplot.show()"
      ],
      "metadata": {
        "colab": {
          "base_uri": "https://localhost:8080/",
          "height": 418
        },
        "id": "VQxgFxIUPXIb",
        "outputId": "4125dc90-c33c-4216-c9ef-540c675e3014"
      },
      "execution_count": null,
      "outputs": [
        {
          "output_type": "stream",
          "name": "stdout",
          "text": [
            "Accuracy: 0.994505\n",
            "Precision: 0.994505\n",
            "Recall: 0.994505\n",
            "F1 score: 0.994505\n",
            "Confusion Matrix:\n",
            "[[169   0]\n",
            " [  2 193]]\n",
            "ROC AUC Score: 0.995\n"
          ]
        },
        {
          "output_type": "display_data",
          "data": {
            "text/plain": [
              "<Figure size 432x288 with 1 Axes>"
            ],
            "image/png": "[encoded data removed]"
          },
          "metadata": {
            "needs_background": "light"
          }
        }
      ]
    },
    {
      "cell_type": "code",
      "source": [
        "# Multi Layer Perceptron classifier\n",
        "\n",
        "mlp = MLPClassifier(alpha=1, max_iter=1000)\n",
        "mlp.fit(X_train, y_train)\n",
        "\n",
        "# Make predictions\n",
        "y_test_pred = mlp.predict(X_test)\n",
        "\n",
        "# Test set performance\n",
        "mlp_test_accuracy = accuracy_score(y_test, y_test_pred) # Calculate Accuracy\n",
        "mlp_test_f1 = f1_score(y_test, y_test_pred, average='weighted') # Calculate F1-score\n",
        "\n",
        "\n",
        "print('Model performance for Test set')\n",
        "mlp_test_accuracy = accuracy_score(y_test, y_test_pred)\n",
        "print('Accuracy: %f' % mlp_test_accuracy)\n",
        "mlp_test_precision = precision_score(y_test, y_test_pred)\n",
        "print('Precision: %f' % mlp_test_precision)\n",
        "mlp_test_recall = recall_score(y_test, y_test_pred)\n",
        "print('Recall: %f' % mlp_test_recall)\n",
        "mlp_test_f1 = f1_score(y_test, y_test_pred)\n",
        "print('F1 score: %f' % mlp_test_f1)\n",
        "mlp_test_matrix = confusion_matrix(y_test, y_test_pred)\n",
        "print(\"Confusion Matrix:\")\n",
        "print(mlp_test_matrix)\n",
        "\n",
        "# calculating AUC score\n",
        "mlp_test_lr_auc = roc_auc_score(y_test, y_test_pred)\n",
        "print('ROC AUC Score: %.3f' % (mlp_test_lr_auc))\n",
        "# calculating values for roc curve\n",
        "lr_fpr, lr_tpr, _ = roc_curve(y_test, y_test_pred)\n",
        "# plotting the roc curve for the model\n",
        "pyplot.plot(lr_fpr, lr_tpr, marker='.')\n",
        "pyplot.xlabel('False Positive Rate')\n",
        "pyplot.ylabel('True Positive Rate')\n",
        "pyplot.text(0.55, 0.8, \"AUC Score: %.3f\" % (mlp_test_lr_auc))\n",
        "pyplot.show()"
      ],
      "metadata": {
        "colab": {
          "base_uri": "https://localhost:8080/",
          "height": 435
        },
        "id": "6I-Yl-mFCVeT",
        "outputId": "1c7d5ba0-82ce-4e14-c835-0d4a9b0297a4"
      },
      "execution_count": null,
      "outputs": [
        {
          "output_type": "stream",
          "name": "stdout",
          "text": [
            "Model performance for Test set\n",
            "Accuracy: 0.771978\n",
            "Precision: 0.718750\n",
            "Recall: 0.943590\n",
            "F1 score: 0.815965\n",
            "Confusion Matrix:\n",
            "[[ 97  72]\n",
            " [ 11 184]]\n",
            "ROC AUC Score: 0.759\n"
          ]
        },
        {
          "output_type": "display_data",
          "data": {
            "text/plain": [
              "<Figure size 432x288 with 1 Axes>"
            ],
            "image/png": "[encoded data removed]"
          },
          "metadata": {
            "needs_background": "light"
          }
        }
      ]
    },
    {
      "cell_type": "code",
      "source": [
        "#Support Vector classifier\n",
        "\n",
        "svc = SVC(gamma=1, C=1)\n",
        "svc.fit(X_train, y_train)\n",
        "\n",
        "# Make predictions\n",
        "y_test_pred = svc.predict(X_test)\n",
        "\n",
        "# Test set performance\n",
        "svc_test_accuracy = accuracy_score(y_test, y_test_pred) # Calculate Accuracy\n",
        "svc_test_f1 = f1_score(y_test, y_test_pred, average='weighted') # Calculate F1-score\n",
        "\n",
        "print('Model performance for Test set')\n",
        "svc_test_accuracy = accuracy_score(y_test, y_test_pred)\n",
        "print('Accuracy: %f' % svc_test_accuracy)\n",
        "svc_test_precision = precision_score(y_test, y_test_pred)\n",
        "print('Precision: %f' % svc_test_precision)\n",
        "svc_test_recall = recall_score(y_test, y_test_pred)\n",
        "print('Recall: %f' % svc_test_recall)\n",
        "svc_test_f1 = f1_score(y_test, y_test_pred)\n",
        "print('F1 score: %f' % svc_test_f1)\n",
        "svc_test_matrix = confusion_matrix(y_test, y_test_pred)\n",
        "print(\"Confusion Matrix:\")\n",
        "print(svc_test_matrix)\n",
        "\n",
        "# calculating AUC score\n",
        "svc_test_lr_auc = roc_auc_score(y_test, y_test_pred)\n",
        "print('ROC AUC Score: %.3f' % (svc_test_lr_auc))\n",
        "# calculating values for roc curve\n",
        "lr_fpr, lr_tpr, _ = roc_curve(y_test, y_test_pred)\n",
        "# plotting the roc curve for the model\n",
        "pyplot.plot(lr_fpr, lr_tpr, marker='.')\n",
        "pyplot.xlabel('False Positive Rate')\n",
        "pyplot.ylabel('True Positive Rate')\n",
        "pyplot.text(0.55, 0.8, \"AUC Score: %.3f\" % (svc_test_lr_auc))\n",
        "pyplot.show()"
      ],
      "metadata": {
        "colab": {
          "base_uri": "https://localhost:8080/",
          "height": 435
        },
        "id": "pyqK2iCcCXC-",
        "outputId": "5ba0552c-d83a-4748-f244-42271aa7b7c8"
      },
      "execution_count": null,
      "outputs": [
        {
          "output_type": "stream",
          "name": "stdout",
          "text": [
            "Model performance for Test set\n",
            "Accuracy: 0.692308\n",
            "Precision: 1.000000\n",
            "Recall: 0.425641\n",
            "F1 score: 0.597122\n",
            "Confusion Matrix:\n",
            "[[169   0]\n",
            " [112  83]]\n",
            "ROC AUC Score: 0.713\n"
          ]
        },
        {
          "output_type": "display_data",
          "data": {
            "text/plain": [
              "<Figure size 432x288 with 1 Axes>"
            ],
            "image/png": "[encoded data removed]"
          },
          "metadata": {
            "needs_background": "light"
          }
        }
      ]
    },
    {
      "cell_type": "code",
      "source": [
        "# Averaging ensemble method\n",
        "\n",
        "from sklearn.ensemble import RandomForestRegressor\n",
        "import xgboost as xgb\n",
        "from sklearn.linear_model import LinearRegression\n",
        "\n",
        "pred_1 = knn.predict(X_test)\n",
        "pred_2 = svc.predict(X_test)\n",
        "pred_3 = mlp.predict(X_test)\n",
        "\n",
        "# final prediction after averaging on the prediction of all 3 models\n",
        "pred_final = (pred_1+pred_2+pred_3)/3.0\n",
        "\n",
        "# printing the mean squared error between real value and predicted value\n",
        "print(mean_squared_error(y_test, pred_final))\n",
        "\n"
      ],
      "metadata": {
        "colab": {
          "base_uri": "https://localhost:8080/"
        },
        "id": "D_WiPuGEfL0m",
        "outputId": "555b5b8f-da9d-4a4f-f8fa-1f97fd931d99"
      },
      "execution_count": null,
      "outputs": [
        {
          "output_type": "stream",
          "name": "stdout",
          "text": [
            "0.06868131868131869\n"
          ]
        }
      ]
    },
    {
      "cell_type": "code",
      "source": [
        "# Weighted average ensemble method\n",
        "\n",
        "pred_1 = knn.predict(X_test)\n",
        "pred_2 = svc.predict(X_test)\n",
        "pred_3 = mlp.predict(X_test)\n",
        "\n",
        "# final prediction after averaging on the prediction of all 3 models\n",
        "pred_final = (pred_1*0.3+pred_2*0.3+pred_3*0.4)\n",
        "\n",
        "# printing the mean squared error between real value and predicted value\n",
        "print(mean_squared_error(y_test, pred_final))"
      ],
      "metadata": {
        "colab": {
          "base_uri": "https://localhost:8080/"
        },
        "id": "Xl9G3YtjfWlq",
        "outputId": "d72cc6c9-e858-420f-b96d-fe713ec24f60"
      },
      "execution_count": null,
      "outputs": [
        {
          "output_type": "stream",
          "name": "stdout",
          "text": [
            "0.07357142857142858\n"
          ]
        }
      ]
    },
    {
      "cell_type": "code",
      "source": [
        "# Voting ensemble method\n",
        "\n",
        "from sklearn.ensemble import VotingClassifier\n",
        "\n",
        "model = VotingClassifier(estimators=[('knn', knn), ('svm_rbf', svc), ('mlp', svc)], voting='hard')\n",
        "model.fit(X_train,y_train)\n",
        "model.score(X_test,y_test)\n"
      ],
      "metadata": {
        "colab": {
          "base_uri": "https://localhost:8080/"
        },
        "id": "aYl7K5EdfW0u",
        "outputId": "7086e3dd-381b-4f44-d59f-e2716b793272"
      },
      "execution_count": null,
      "outputs": [
        {
          "output_type": "execute_result",
          "data": {
            "text/plain": [
              "0.6923076923076923"
            ]
          },
          "metadata": {},
          "execution_count": 59
        }
      ]
    },
    {
      "cell_type": "code",
      "source": [
        "#Stacking the classifiers\n",
        "\n",
        "import xgboost as xgb\n",
        "\n",
        "# Define estimators\n",
        "estimator_list = [\n",
        "    ('knn',knn),\n",
        "    ('svc',svc),\n",
        "    ('mlp',mlp) ]\n",
        "\n",
        "\n",
        "# Build stack model\n",
        "stack_model = StackingClassifier(\n",
        "    estimators=estimator_list, final_estimator=LogisticRegression()\n",
        ")\n",
        "\n",
        "# Train stacked model\n",
        "stack_model.fit(X_train, y_train)\n",
        "\n",
        "# Make prediction\n",
        "y_test_pred = stack_model.predict(X_test)\n",
        "\n",
        "# Test set model performance\n",
        "print('Model performance for Test set')\n",
        "stack_model_test_accuracy = accuracy_score(y_test, y_test_pred)\n",
        "print('Accuracy: %f' % stack_model_test_accuracy)\n",
        "stack_model_test_precision = precision_score(y_test, y_test_pred)\n",
        "print('Precision: %f' % stack_model_test_precision)\n",
        "stack_model_test_recall = recall_score(y_test, y_test_pred)\n",
        "print('Recall: %f' % stack_model_test_recall)\n",
        "stack_model_test_f1 = f1_score(y_test, y_test_pred)\n",
        "print('F1 score: %f' % stack_model_test_f1)\n",
        "stack_model_test_matrix = confusion_matrix(y_test, y_test_pred)\n",
        "print(\"Confusion Matrix:\")\n",
        "print(stack_model_test_matrix)\n",
        "\n",
        "# calculating AUC score\n",
        "stack_model_test_lr_auc = roc_auc_score(y_test, y_test_pred)\n",
        "print('ROC AUC Score: %.3f' % (stack_model_test_lr_auc))\n",
        "# calculating values for roc curve\n",
        "lr_fpr, lr_tpr, _ = roc_curve(y_test, y_test_pred)\n",
        "# plotting the roc curve for the model\n",
        "pyplot.plot(lr_fpr, lr_tpr, marker='.')\n",
        "pyplot.xlabel('False Positive Rate')\n",
        "pyplot.ylabel('True Positive Rate')\n",
        "pyplot.text(0.55, 0.8, \"AUC Score: %.3f\" % (stack_model_test_lr_auc))\n",
        "pyplot.show()"
      ],
      "metadata": {
        "colab": {
          "base_uri": "https://localhost:8080/",
          "height": 435
        },
        "id": "s4LNL02W-MLe",
        "outputId": "a608ea2e-e9e6-4049-8b7a-219f40b1924a"
      },
      "execution_count": null,
      "outputs": [
        {
          "output_type": "stream",
          "name": "stdout",
          "text": [
            "Model performance for Test set\n",
            "Accuracy: 0.994505\n",
            "Precision: 1.000000\n",
            "Recall: 0.989744\n",
            "F1 score: 0.994845\n",
            "Confusion Matrix:\n",
            "[[169   0]\n",
            " [  2 193]]\n",
            "ROC AUC Score: 0.995\n"
          ]
        },
        {
          "output_type": "display_data",
          "data": {
            "text/plain": [
              "<Figure size 432x288 with 1 Axes>"
            ],
            "image/png": "[encoded data removed]"
          },
          "metadata": {
            "needs_background": "light"
          }
        }
      ]
    },
    {
      "cell_type": "code",
      "source": [
        "acc_test_list = {'knn':knn_test_accuracy,\n",
        "'svm_rbf': svc_test_accuracy,\n",
        "'mlp': mlp_test_accuracy,\n",
        "'stack': stack_model_test_accuracy}\n",
        "\n",
        "\n",
        "f1_test_list = {'knn':knn_test_f1,\n",
        "'svm_rbf': svc_test_f1,\n",
        "'mlp': mlp_test_f1,\n",
        "'stack': stack_model_test_f1}\n",
        "\n",
        "precision_test_list = {'knn':knn_test_precision,\n",
        "'svm_rbf': svc_test_precision,\n",
        "'mlp': mlp_test_precision,\n",
        "'stack': stack_model_test_precision}\n",
        "\n",
        "recall_test_list = {'knn':knn_test_recall,\n",
        "'svm_rbf': svc_test_recall,\n",
        "'mlp': mlp_test_recall,\n",
        "'stack': stack_model_test_recall}\n",
        "\n",
        "roc_test_list = {'knn':knn_test_lr_auc,\n",
        "'svm_rbf': svc_test_lr_auc,\n",
        "'mlp': mlp_test_lr_auc,\n",
        "'stack': stack_model_test_lr_auc}"
      ],
      "metadata": {
        "id": "Tb1tQt4B-mH1"
      },
      "execution_count": null,
      "outputs": []
    },
    {
      "cell_type": "code",
      "source": [
        "import pandas as pd\n",
        "\n",
        "acc_df = pd.DataFrame.from_dict(acc_test_list, orient='index', columns=['Accuracy'])\n",
        "f1_df = pd.DataFrame.from_dict(f1_test_list, orient='index', columns=['F1'])\n",
        "precision_df = pd.DataFrame.from_dict(f1_test_list, orient='index', columns=['Precision'])\n",
        "recall_df = pd.DataFrame.from_dict(f1_test_list, orient='index', columns=['Recall'])\n",
        "roc_df = pd.DataFrame.from_dict(f1_test_list, orient='index', columns=['ROC AUC Score'])\n",
        "performance_metrics = pd.concat([acc_df, f1_df, precision_df, recall_df, roc_df], axis=1)\n",
        "performance_metrics"
      ],
      "metadata": {
        "colab": {
          "base_uri": "https://localhost:8080/",
          "height": 175
        },
        "id": "od4Ox9h0-sYW",
        "outputId": "98416f08-4238-4500-bc34-8ec9470e6a6e"
      },
      "execution_count": null,
      "outputs": [
        {
          "output_type": "execute_result",
          "data": {
            "text/plain": [
              "         Accuracy        F1  Precision    Recall  ROC AUC Score\n",
              "knn      0.994505  0.994505   0.994505  0.994505       0.994505\n",
              "svm_rbf  0.692308  0.597122   0.597122  0.597122       0.597122\n",
              "mlp      0.771978  0.815965   0.815965  0.815965       0.815965\n",
              "stack    0.994505  0.994845   0.994845  0.994845       0.994845"
            ],
            "text/html": [
              "\n",
              "  <div id=\"df-351254d3-b011-42d4-864e-bce8476c8194\">\n",
              "    <div class=\"colab-df-container\">\n",
              "      <div>\n",
              "<style scoped>\n",
              "    .dataframe tbody tr th:only-of-type {\n",
              "        vertical-align: middle;\n",
              "    }\n",
              "\n",
              "    .dataframe tbody tr th {\n",
              "        vertical-align: top;\n",
              "    }\n",
              "\n",
              "    .dataframe thead th {\n",
              "        text-align: right;\n",
              "    }\n",
              "</style>\n",
              "<table border=\"1\" class=\"dataframe\">\n",
              "  <thead>\n",
              "    <tr style=\"text-align: right;\">\n",
              "      <th></th>\n",
              "      <th>Accuracy</th>\n",
              "      <th>F1</th>\n",
              "      <th>Precision</th>\n",
              "      <th>Recall</th>\n",
              "      <th>ROC AUC Score</th>\n",
              "    </tr>\n",
              "  </thead>\n",
              "  <tbody>\n",
              "    <tr>\n",
              "      <th>knn</th>\n",
              "      <td>0.994505</td>\n",
              "      <td>0.994505</td>\n",
              "      <td>0.994505</td>\n",
              "      <td>0.994505</td>\n",
              "      <td>0.994505</td>\n",
              "    </tr>\n",
              "    <tr>\n",
              "      <th>svm_rbf</th>\n",
              "      <td>0.692308</td>\n",
              "      <td>0.597122</td>\n",
              "      <td>0.597122</td>\n",
              "      <td>0.597122</td>\n",
              "      <td>0.597122</td>\n",
              "    </tr>\n",
              "    <tr>\n",
              "      <th>mlp</th>\n",
              "      <td>0.771978</td>\n",
              "      <td>0.815965</td>\n",
              "      <td>0.815965</td>\n",
              "      <td>0.815965</td>\n",
              "      <td>0.815965</td>\n",
              "    </tr>\n",
              "    <tr>\n",
              "      <th>stack</th>\n",
              "      <td>0.994505</td>\n",
              "      <td>0.994845</td>\n",
              "      <td>0.994845</td>\n",
              "      <td>0.994845</td>\n",
              "      <td>0.994845</td>\n",
              "    </tr>\n",
              "  </tbody>\n",
              "</table>\n",
              "</div>\n",
              "      <button class=\"colab-df-convert\" onclick=\"convertToInteractive('df-351254d3-b011-42d4-864e-bce8476c8194')\"\n",
              "              title=\"Convert this dataframe to an interactive table.\"\n",
              "              style=\"display:none;\">\n",
              "        \n",
              "  <svg xmlns=\"http://www.w3.org/2000/svg\" height=\"24px\"viewBox=\"0 0 24 24\"\n",
              "       width=\"24px\">\n",
              "    <path d=\"M0 0h24v24H0V0z\" fill=\"none\"/>\n",
              "    <path d=\"M18.56 5.44l.94 2.06.94-2.06 2.06-.94-2.06-.94-.94-2.06-.94 2.06-2.06.94zm-11 1L8.5 8.5l.94-2.06 2.06-.94-2.06-.94L8.5 2.5l-.94 2.06-2.06.94zm10 10l.94 2.06.94-2.06 2.06-.94-2.06-.94-.94-2.06-.94 2.06-2.06.94z\"/><path d=\"M17.41 7.96l-1.37-1.37c-.4-.4-.92-.59-1.43-.59-.52 0-1.04.2-1.43.59L10.3 9.45l-7.72 7.72c-.78.78-.78 2.05 0 2.83L4 21.41c.39.39.9.59 1.41.59.51 0 1.02-.2 1.41-.59l7.78-7.78 2.81-2.81c.8-.78.8-2.07 0-2.86zM5.41 20L4 18.59l7.72-7.72 1.47 1.35L5.41 20z\"/>\n",
              "  </svg>\n",
              "      </button>\n",
              "      \n",
              "  <style>\n",
              "    .colab-df-container {\n",
              "      display:flex;\n",
              "      flex-wrap:wrap;\n",
              "      gap: 12px;\n",
              "    }\n",
              "\n",
              "    .colab-df-convert {\n",
              "      background-color: #E8F0FE;\n",
              "      border: none;\n",
              "      border-radius: 50%;\n",
              "      cursor: pointer;\n",
              "      display: none;\n",
              "      fill: #1967D2;\n",
              "      height: 32px;\n",
              "      padding: 0 0 0 0;\n",
              "      width: 32px;\n",
              "    }\n",
              "\n",
              "    .colab-df-convert:hover {\n",
              "      background-color: #E2EBFA;\n",
              "      box-shadow: 0px 1px 2px rgba(60, 64, 67, 0.3), 0px 1px 3px 1px rgba(60, 64, 67, 0.15);\n",
              "      fill: #174EA6;\n",
              "    }\n",
              "\n",
              "    [theme=dark] .colab-df-convert {\n",
              "      background-color: #3B4455;\n",
              "      fill: #D2E3FC;\n",
              "    }\n",
              "\n",
              "    [theme=dark] .colab-df-convert:hover {\n",
              "      background-color: #434B5C;\n",
              "      box-shadow: 0px 1px 3px 1px rgba(0, 0, 0, 0.15);\n",
              "      filter: drop-shadow(0px 1px 2px rgba(0, 0, 0, 0.3));\n",
              "      fill: #FFFFFF;\n",
              "    }\n",
              "  </style>\n",
              "\n",
              "      <script>\n",
              "        const buttonEl =\n",
              "          document.querySelector('#df-351254d3-b011-42d4-864e-bce8476c8194 button.colab-df-convert');\n",
              "        buttonEl.style.display =\n",
              "          google.colab.kernel.accessAllowed ? 'block' : 'none';\n",
              "\n",
              "        async function convertToInteractive(key) {\n",
              "          const element = document.querySelector('#df-351254d3-b011-42d4-864e-bce8476c8194');\n",
              "          const dataTable =\n",
              "            await google.colab.kernel.invokeFunction('convertToInteractive',\n",
              "                                                     [key], {});\n",
              "          if (!dataTable) return;\n",
              "\n",
              "          const docLinkHtml = 'Like what you see? Visit the ' +\n",
              "            '<a target=\"_blank\" href=https://colab.research.google.com/notebooks/data_table.ipynb>data table notebook</a>'\n",
              "            + ' to learn more about interactive tables.';\n",
              "          element.innerHTML = '';\n",
              "          dataTable['output_type'] = 'display_data';\n",
              "          await google.colab.output.renderOutput(dataTable, element);\n",
              "          const docLink = document.createElement('div');\n",
              "          docLink.innerHTML = docLinkHtml;\n",
              "          element.appendChild(docLink);\n",
              "        }\n",
              "      </script>\n",
              "    </div>\n",
              "  </div>\n",
              "  "
            ]
          },
          "metadata": {},
          "execution_count": 62
        }
      ]
    },
    {
      "cell_type": "code",
      "source": [],
      "metadata": {
        "id": "o05sMWpCQWJk"
      },
      "execution_count": null,
      "outputs": []
    }
  ]
}